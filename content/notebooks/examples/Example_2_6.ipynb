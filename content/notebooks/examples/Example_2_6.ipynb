{
 "cells": [
  {
   "cell_type": "code",
   "execution_count": 1,
   "id": "4a492d97",
   "metadata": {},
   "outputs": [],
   "source": [
    "from Generation import scenarios_regression\n",
    "from utils import solver_cvx\n",
    "import cvxpy as cp\n",
    "import numpy as np"
   ]
  },
  {
   "cell_type": "code",
   "execution_count": 4,
   "id": "f39db73b",
   "metadata": {},
   "outputs": [
    {
     "name": "stdout",
     "output_type": "stream",
     "text": [
      "[2 1] [2.02729816 0.95685858] [2.02729816 0.95685858]\n"
     ]
    }
   ],
   "source": [
    "# Loading scenarios\n",
    "# ===========================\n",
    "scenario=1;\n",
    "data_reg, set_up=scenarios_regression(scenario);\n",
    "\n",
    "# Definition of the problem\n",
    "#===================================\n",
    "loss_LS = lambda n, X, Y, w, lambd: (1/n)*cp.pnorm(X @ w - Y, p=2)**2\n",
    "\n",
    "# Different ways to solve the LS\n",
    "#=========================================\n",
    "# Solution of the empirical risk using CVX\n",
    "# Analytical solution\n",
    "Xtrain = set_up['Xtrain'][:,:set_up['d']+1]\n",
    "x_opt=np.linalg.inv(Xtrain.T@Xtrain)@Xtrain.T@set_up['ytrain'][:,0];\n",
    "# Solution with cvx\n",
    "x_cvx=solver_cvx(set_up,loss_LS);\n",
    "# Verification\n",
    "print(data_reg['Reg_opt'], x_cvx, x_opt)"
   ]
  },
  {
   "cell_type": "code",
   "execution_count": null,
   "id": "b3e0ff85",
   "metadata": {},
   "outputs": [],
   "source": []
  }
 ],
 "metadata": {
  "kernelspec": {
   "display_name": "Python 3 (ipykernel)",
   "language": "python",
   "name": "python3"
  },
  "language_info": {
   "codemirror_mode": {
    "name": "ipython",
    "version": 3
   },
   "file_extension": ".py",
   "mimetype": "text/x-python",
   "name": "python",
   "nbconvert_exporter": "python",
   "pygments_lexer": "ipython3",
   "version": "3.9.13"
  }
 },
 "nbformat": 4,
 "nbformat_minor": 5
}
