{
 "cells": [
  {
   "cell_type": "code",
   "execution_count": 2,
   "id": "5b02b798",
   "metadata": {},
   "outputs": [],
   "source": [
    "!wget --no-cache -O init.py -q https://raw.githubusercontent.com/jdariasl/OTBD/main/content/init.py\n",
    "import init; init.init(force_download=False)"
   ]
  },
  {
   "cell_type": "code",
   "execution_count": 1,
   "id": "4b5e5024",
   "metadata": {},
   "outputs": [],
   "source": [
    "from local.lib.project import project_sel\n",
    "import scipy as sc"
   ]
  },
  {
   "cell_type": "code",
   "execution_count": 2,
   "id": "7071fc71",
   "metadata": {},
   "outputs": [
    {
     "name": "stdout",
     "output_type": "stream",
     "text": [
      "Use the data set of the classification problem given to you to train a SVM model.\n",
      "\n",
      "You must chose three algorithms to solve the problem (one for each of the following items):\n",
      "\n",
      "* Gradient/subgradient descent with constant/decay learning rate; accelerated gradient/subgradient descent; proximal grandient descent\n",
      "\n",
      "* Conjugate gradient descend; BFGS; Block coordinate descent assuming, at least, 2 nodes\n",
      "\n",
      "* Distributed ADMM assuming, at least, 2 nodes\n",
      "\n",
      "Note that not all the algorithms are suitable for all the problems, so the selection must be done carefully.\n",
      "\n",
      "The global number of iterations for each algorithm is 1000.\n",
      "\n",
      "Use an initial regularization parameter of 0.01 for the regularization terms and 10 for the rho quadratic term in ADMM.\n",
      "\n",
      "Note that the values provided for the number of iterations, regularization parameter and rho are orientative, and the student must find a good hyperparameter set that solves adequatelly its problem. You can also use Bayesian optimization to find the best hyperparameters.\n",
      "\n",
      "The student must provide this python notebook adding the following information:\n",
      "\n",
      "* A description of the problem and the dataset used.\n",
      "\n",
      "* A description of each algorithm chosen.\n",
      "\n",
      "* The code commented.\n",
      "\n",
      "* The results obtained and comment these results, including the advantages and disadvantages of each algorithm used. Use as many graphs and block diagrams as needed.\n",
      "\n",
      "A fully executable python notebook, as well as its pdf version, must be uploaded to Moodle before the final exam.\n",
      "\n",
      "The evaluation will be done according to the following criteria:\n",
      "\n",
      "* Project acomplishment.\n",
      "\n",
      "* Correctness of the results.\n",
      "\n",
      "* Quality of the results discussions.\n",
      "\n",
      "* Correctness of the code.\n",
      "\n",
      "* Quality of the comments.\n",
      "\n"
     ]
    }
   ],
   "source": [
    "#Set name variable with your full name.\n",
    "Name = 'Julián David Aras Londoño';\n",
    "X,Y = project_sel(Name)"
   ]
  },
  {
   "cell_type": "code",
   "execution_count": 8,
   "id": "510a0244",
   "metadata": {},
   "outputs": [
    {
     "name": "stdout",
     "output_type": "stream",
     "text": [
      "Numer of samples 500; number of features 8\n"
     ]
    }
   ],
   "source": [
    "n,d = X.shape\n",
    "\n",
    "#data normalisation\n",
    "X = sc.stats.zscore(X)\n",
    "\n",
    "print(f\"Numer of samples {n}; number of features {d}\")"
   ]
  },
  {
   "cell_type": "code",
   "execution_count": null,
   "id": "47cf0ffe",
   "metadata": {},
   "outputs": [],
   "source": []
  }
 ],
 "metadata": {
  "kernelspec": {
   "display_name": "Python 3 (ipykernel)",
   "language": "python",
   "name": "python3"
  },
  "language_info": {
   "codemirror_mode": {
    "name": "ipython",
    "version": 3
   },
   "file_extension": ".py",
   "mimetype": "text/x-python",
   "name": "python",
   "nbconvert_exporter": "python",
   "pygments_lexer": "ipython3",
   "version": "3.9.13"
  }
 },
 "nbformat": 4,
 "nbformat_minor": 5
}
