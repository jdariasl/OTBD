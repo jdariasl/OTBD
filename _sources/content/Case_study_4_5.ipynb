{
 "cells": [
  {
   "cell_type": "markdown",
   "id": "ac16f39c",
   "metadata": {},
   "source": [
    "# Case_study_4_5"
   ]
  },
  {
   "cell_type": "markdown",
   "id": "ad9e615a",
   "metadata": {},
   "source": [
    "Vanilla NN for solving the XOR problem"
   ]
  },
  {
   "cell_type": "code",
   "execution_count": null,
   "id": "eca027eb",
   "metadata": {},
   "outputs": [],
   "source": [
    "!wget --no-cache -O init.py -q https://raw.githubusercontent.com/jdariasl/OTBD/main/content/init.py\n",
    "import init; init.init(force_download=False)"
   ]
  },
  {
   "cell_type": "code",
   "execution_count": 1,
   "id": "922db1a7",
   "metadata": {},
   "outputs": [],
   "source": [
    "import numpy as np\n",
    "import matplotlib.pyplot as plt\n",
    "from local.lib.utils import forward, backward"
   ]
  },
  {
   "cell_type": "code",
   "execution_count": 20,
   "id": "d64c4f1a",
   "metadata": {},
   "outputs": [
    {
     "data": {
      "image/png": "[encoded data removed]",
      "text/plain": [
       "<Figure size 640x480 with 1 Axes>"
      ]
     },
     "metadata": {},
     "output_type": "display_data"
    }
   ],
   "source": [
    "\n",
    "# Main parameters\n",
    "mu=0.1                 # Step size\n",
    "Ns=100000              # Number of samples\n",
    "Nh=2                   # Number of neurons hidden layer\n",
    "Ni=2                   # Number of inputs\n",
    "No=1                   # Number of outputs\n",
    "\n",
    "# Defining the input and the desired signals\n",
    "x1=np.random.randint(0, 2, size = (1,Ns+1))  # Input signal 1\n",
    "x2=np.random.randint(0, 2, size = (1,Ns+1))  # Input signal 2\n",
    "x=np.r_[x1,x2];\n",
    "y=np.logical_xor(x1,x2);                     # Desired signal\n",
    "y = y.astype(int).flatten()\n",
    "# Defining the variables (weights and bias)\n",
    "W1=np.zeros((Nh,Ni,Ns+1))            # Weights hidden layer\n",
    "W2=np.zeros((No,Nh,Ns+1))            # Weights output layer\n",
    "W1[:,:,0]=np.random.rand(Nh,Ni)      # Initialization\n",
    "W2[:,:,0]=np.random.rand(No,Nh)      # Initialization\n",
    "b1=np.zeros((Nh,Ns+1))               # Bias hidden layer\n",
    "b1[:,0]=np.random.rand(Nh)           # Iitialization\n",
    "b2=np.zeros((No,Ns+1));              # Bias output layer\n",
    "b2[:,0]=np.random.rand(No)           # Initialization\n",
    "tipo='linear'                        # Output nonlinearity\n",
    "e=np.zeros(Ns)                       # Error signal\n",
    "out=np.zeros(Ns)                     # Output signal\n",
    "\n",
    "\n",
    "# Loop along the samples including the forward and backward steps\n",
    "for k in range(Ns):\n",
    "    z0=x[:,k]\n",
    "    z1,z2,_,_=forward(W1[:,:,k],W2[:,:,k],b1[:,k],b2[:,k],z0,tipo)\n",
    "    e[k]=y[k]-z2\n",
    "    out[k]=z2\n",
    "    delta2, delta1=backward(W2[:,:,k],z1,z2,e[k],tipo);\n",
    "    W2[:,:,k+1]=W2[:,:,k]+2*mu*delta2*z1.T\n",
    "    b2[0,k+1]=b2[0,k]+mu*2*delta2\n",
    "    W1[:,:,k+1]=W1[:,:,k]+mu*2*delta1*z0;\n",
    "    b1[:,k+1]=b1[:,k]+mu*2*delta1.flatten();\n",
    "\n",
    "\n",
    "W2_out=W2[:,:,Ns]\n",
    "b2_out=b2[0,Ns]\n",
    "W1_out=W1[:,:,Ns]\n",
    "b1_out=b1[:,Ns]\n",
    "\n",
    "# How to present results    \n",
    "x_test=np.arange(0,1,.01)\n",
    "X,Y=np.meshgrid(x_test,x_test)\n",
    "out_func=np.zeros_like(X)\n",
    "for k in range(len(x_test)):\n",
    "    for kk in range(len(x_test)):\n",
    "        z0=np.stack([X[k,kk],Y[k,kk]])\n",
    "        _, y2, _, _=forward(W1_out,W2_out,b1_out,b2_out,z0,tipo)\n",
    "        if y2>0.5: \n",
    "            plt.plot(X[k,kk],Y[k,kk],marker='o',color='r', linewidth = 3)\n",
    "        else:\n",
    "            plt.plot(X[k,kk],Y[k,kk],marker='+',color='b', linewidth = 3)\n",
    "plt.axis([-.2, 1.2, -.2, 1.2])        \n",
    "plt.gca().set_aspect('equal')\n",
    "plt.show()\n",
    "\n",
    "\n",
    "\n"
   ]
  },
  {
   "cell_type": "code",
   "execution_count": null,
   "id": "feaa3389",
   "metadata": {},
   "outputs": [],
   "source": []
  }
 ],
 "metadata": {
  "kernelspec": {
   "display_name": "Python 3 (ipykernel)",
   "language": "python",
   "name": "python3"
  },
  "language_info": {
   "codemirror_mode": {
    "name": "ipython",
    "version": 3
   },
   "file_extension": ".py",
   "mimetype": "text/x-python",
   "name": "python",
   "nbconvert_exporter": "python",
   "pygments_lexer": "ipython3",
   "version": "3.9.13"
  }
 },
 "nbformat": 4,
 "nbformat_minor": 5
}
