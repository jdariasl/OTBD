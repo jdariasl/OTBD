{
 "cells": [
  {
   "cell_type": "markdown",
   "id": "5c170153",
   "metadata": {},
   "source": [
    "# Student_exam_oriented_ex_5_1"
   ]
  },
  {
   "cell_type": "code",
   "execution_count": null,
   "id": "c197ff8b",
   "metadata": {},
   "outputs": [],
   "source": [
    "!wget --no-cache -O init.py -q https://raw.githubusercontent.com/jdariasl/OTBD/main/content/init.py\n",
    "import init; init.init(force_download=False)"
   ]
  },
  {
   "cell_type": "code",
   "execution_count": null,
   "id": "8c0e945f",
   "metadata": {},
   "outputs": [],
   "source": [
    "#!sudo apt install cm-super dvipng texlive-latex-extra texlive-latex-recommended"
   ]
  },
  {
   "cell_type": "code",
   "execution_count": 1,
   "id": "cbd8d359",
   "metadata": {},
   "outputs": [],
   "source": [
    "import numpy as np\n",
    "from local.lib.data import load_data\n",
    "import scipy as sc\n",
    "import matplotlib.pyplot as plt"
   ]
  },
  {
   "cell_type": "code",
   "execution_count": null,
   "id": "bd32b57b",
   "metadata": {},
   "outputs": [],
   "source": [
    "#!pip install cvxpy"
   ]
  },
  {
   "cell_type": "code",
   "execution_count": 2,
   "id": "46db6ac6",
   "metadata": {},
   "outputs": [],
   "source": [
    "import cvxpy as cp"
   ]
  },
  {
   "cell_type": "markdown",
   "id": "6e9256d3",
   "metadata": {},
   "source": [
    "## Exercise\n",
    "\n",
    "\n",
    "- Algorithm: Newton and BFGS\n",
    "- Problem: Binary classification using a Logistic Regression\n",
    "\n",
    "$\\underset{{\\bf{w}}}{\\min}f({\\bf{w}})=\\underset{{\\bf{w}}}{\\min}\\left(\n",
    "\\frac{1}{n}\\sum_{i=1}^{n} \\log(1+\\exp{(-y_i {\\bf{w}}^T{\\bf{x}}_i)}) +\\frac{\\lambda}{2}\\left\\Vert {\\bf{w}}\\right\\Vert _{2}^{2}\\right)$\n",
    "\n",
    "- Iris dataset\n",
    "    - 4 features: sepal and petal length and with of flowers\n",
    "        - We use 4 features: $\\bf{X}$ is a $100\\times 4$ matrix containing 100 dataset entries.\n",
    "    - Target: to predict the right class of the flower (Iris Setosa or Iris Versicolor)\n",
    "        -  Thus, ${\\bf{y}}$ is a $100\\times1$ vector containing the classes\n",
    "        - The dataset actually has 3 classes but we drop one to use a binary classification method."
   ]
  },
  {
   "cell_type": "code",
   "execution_count": 3,
   "id": "eefab5a4",
   "metadata": {},
   "outputs": [],
   "source": [
    "#load data\n",
    "X,y = load_data(\"classification\", 1)\n",
    "n,d = X.shape"
   ]
  },
  {
   "cell_type": "code",
   "execution_count": 4,
   "id": "4adab487",
   "metadata": {},
   "outputs": [],
   "source": [
    "# Constant parameters\n",
    "lamb = 0.1  #regularisation parameter\n",
    "Niter= 50   # Number of iterations for each algorithm"
   ]
  },
  {
   "cell_type": "code",
   "execution_count": 5,
   "id": "b807fa32",
   "metadata": {},
   "outputs": [],
   "source": [
    "#cvx_solver\n",
    "def solver_cvx(n,X,Y,lamb,objective_fn):\n",
    "    n_columns = X.shape[1]\n",
    "    w = cp.Variable(n_columns)\n",
    "    lambd = cp.Parameter(nonneg=True)\n",
    "    lambd.value = lamb\n",
    "    problem = cp.Problem(\n",
    "        cp.Minimize(objective_fn(n, X, Y, w, lambd))\n",
    "    )\n",
    "    problem.solve()\n",
    "    return w.value"
   ]
  },
  {
   "cell_type": "code",
   "execution_count": 32,
   "id": "549ae66a",
   "metadata": {},
   "outputs": [
    {
     "name": "stdout",
     "output_type": "stream",
     "text": [
      "The loss function f at the optimum takes the value 0.24330786676806176\n"
     ]
    }
   ],
   "source": [
    "# Definition of the problem\n",
    "#===================================\n",
    "loss_fn = lambda n, X, Y, w: (1/n)*cp.sum(cp.logistic(cp.multiply(-Y,(X @ w))))\n",
    "reg_L2 = lambda w: cp.pnorm(w, p=2)**2\n",
    "loss_LS_L2 = lambda n, X, Y, w, lambd: loss_fn(n, X, Y, w) + (lambd/2) * reg_L2(w)\n",
    "\n",
    "# Solution of the empirical risk using CVX\n",
    "w_L2_cvx=solver_cvx(n,X,y,lamb,loss_LS_L2)\n",
    "\n",
    "w = cp.Variable(w_L2_cvx.shape[0])\n",
    "w.value = w_L2_cvx\n",
    "f_cvx=loss_LS_L2(n,X,y,w_L2_cvx,lamb).value\n",
    "\n",
    "print(f'The loss function f at the optimum takes the value {f_cvx}')\n",
    "\n",
    "f_cvx = (np.kron(f_cvx,np.ones((1,Niter+1)))).flatten()"
   ]
  },
  {
   "cell_type": "code",
   "execution_count": 18,
   "id": "9d1a7d23",
   "metadata": {},
   "outputs": [],
   "source": [
    "#Function that estimates the loss for several w at once.\n",
    "f = lambda n, X, Y, w, lambd: (1/n)*np.sum(np.log(1+np.exp(np.diag(-Y)@(X@w))),axis=0) + (lambd/2)*np.sum(w**2,axis=0)"
   ]
  },
  {
   "cell_type": "code",
   "execution_count": 34,
   "id": "9b122fcb",
   "metadata": {},
   "outputs": [],
   "source": [
    "# Newton method\n",
    "eta = 0.01  # learning rate\n",
    "w_new=np.zeros((d,Niter+1))\n",
    "\n",
    "for k in range(Niter):\n",
    "    #Complete the code including the updating formula. Keep the weight values for all the iterations\n",
    "    # Remeber that for Newton method you have to estimate the gradient and the hessian.\n",
    "    \n",
    "    w_new[:,k+1] = ...\n",
    "\n",
    "f_new=f(n,X,y,w_new,lamb)"
   ]
  },
  {
   "cell_type": "code",
   "execution_count": null,
   "id": "ed96b82f",
   "metadata": {},
   "outputs": [],
   "source": [
    "# QUASI NEWTON: BFGS + line search for eta\n",
    "delta=0.1\n",
    "gamma=0.9\n",
    "L=np.max(np.linalg.eigvals(X.T@X))+lamb\n",
    "           \n",
    "w_bfgs = np.zeros((d,Niter+1))\n",
    "G=np.eye(d)\n",
    "\n",
    "for k in range(Niter):\n",
    "    \n",
    "    # Complete the code to estimate the gradient of the cost function evaluated at w_bfgs[:,k]\n",
    "    grad = grad_logistic_L2....\n",
    "    \n",
    "    #-------------------------------------------------------------\n",
    "    # Apply Backtracking Line Search\n",
    "    backtrack = 1\n",
    "    etak = 1\n",
    "    while backtrack == 1:\n",
    "        w1 = w_bfgs[:,k] - etak * G@grad\n",
    "        f1 = f(n,X,y,w1,lamb)\n",
    "        f2 = f(n,X,y,w_bfgs[:,k],lamb)\n",
    "        \n",
    "        if etak < 1/L:  # minimum mu value\n",
    "            backtrack = 0\n",
    "            etak = 1/L\n",
    "        elif f1 >= f2 - delta*etak*np.linalg.norm(G @ grad)**2:\n",
    "            etak = etak*gamma  # Reduce eta\n",
    "        else:\n",
    "            backtrack = 0 # Condition fulfilled\n",
    "    #-------------------------------------------------------------\n",
    "    \n",
    "    # Complete the code including the updating formula for the BFGS algorithm. \n",
    "    # Keep the weight values for all the iterations\n",
    "    # Use the etak learning rate obtained by the previous backtracking loop\n",
    "    \n",
    "    w_bfgs[:,k+1] = ...\n",
    "    G = ....\n",
    "\n",
    "f_bfgs=f(n,X,y,w_bfgs,lamb)"
   ]
  },
  {
   "cell_type": "code",
   "execution_count": 40,
   "id": "ad4b05d2",
   "metadata": {},
   "outputs": [
    {
     "data": {
      "image/png": "[encoded data removed]",
      "text/plain": [
       "<Figure size 640x480 with 1 Axes>"
      ]
     },
     "metadata": {},
     "output_type": "display_data"
    }
   ],
   "source": [
    "plt.rcParams.update({\n",
    "    \"text.usetex\": True,\n",
    "    \"font.family\": \"Helvetica\"\n",
    "})\n",
    "t = range(Niter+1)\n",
    "plt.plot(t, 10*np.log10((f_new-f_cvx)**2+np.finfo(float).eps), color = 'r',label = 'Newton')\n",
    "plt.plot(t, 10*np.log10((f_bfgs-f_cvx)**2+np.finfo(float).eps), color = 'g',label = 'BFGS')\n",
    "plt.grid()\n",
    "plt.legend()\n",
    "plt.xlabel('Iteration')\n",
    "plt.ylabel(r'$10\\log(f({\\bf{x}})-f*)^2)$ (MSE)')\n",
    "plt.show()"
   ]
  },
  {
   "cell_type": "code",
   "execution_count": null,
   "id": "60e5b08c",
   "metadata": {},
   "outputs": [],
   "source": []
  }
 ],
 "metadata": {
  "kernelspec": {
   "display_name": "Python 3 (ipykernel)",
   "language": "python",
   "name": "python3"
  },
  "language_info": {
   "codemirror_mode": {
    "name": "ipython",
    "version": 3
   },
   "file_extension": ".py",
   "mimetype": "text/x-python",
   "name": "python",
   "nbconvert_exporter": "python",
   "pygments_lexer": "ipython3",
   "version": "3.9.13"
  }
 },
 "nbformat": 4,
 "nbformat_minor": 5
}
