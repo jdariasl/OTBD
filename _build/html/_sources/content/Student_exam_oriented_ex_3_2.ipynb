{
 "cells": [
  {
   "cell_type": "markdown",
   "id": "6cd9c8d2",
   "metadata": {},
   "source": [
    "# Student_exam_oriented_ex_3_2"
   ]
  },
  {
   "cell_type": "code",
   "execution_count": null,
   "id": "78f89542",
   "metadata": {},
   "outputs": [],
   "source": [
    "!wget --no-cache -O init.py -q https://raw.githubusercontent.com/jdariasl/OTBD/main/content/init.py\n",
    "import init; init.init(force_download=False)"
   ]
  },
  {
   "cell_type": "code",
   "execution_count": null,
   "id": "33528caf",
   "metadata": {},
   "outputs": [],
   "source": [
    "#!sudo apt install cm-super dvipng texlive-latex-extra texlive-latex-recommended"
   ]
  },
  {
   "cell_type": "code",
   "execution_count": 8,
   "id": "57d4ce4b",
   "metadata": {},
   "outputs": [],
   "source": [
    "import numpy as np\n",
    "from local.lib.data import load_data\n",
    "import scipy as sc\n",
    "import matplotlib.pyplot as plt"
   ]
  },
  {
   "cell_type": "code",
   "execution_count": null,
   "id": "a9913b60",
   "metadata": {},
   "outputs": [],
   "source": [
    "#!pip install cvxpy"
   ]
  },
  {
   "cell_type": "code",
   "execution_count": 4,
   "id": "1c900bd6",
   "metadata": {},
   "outputs": [],
   "source": [
    "import cvxpy as cp"
   ]
  },
  {
   "cell_type": "markdown",
   "id": "cd69f331",
   "metadata": {},
   "source": [
    "## Exercise\n",
    "\n",
    "\n",
    "- Algorithm: FISTA\n",
    "- Problem: LASSO\n",
    "\n",
    "$\\underset{{\\bf{w}}}{\\min}f({\\bf{w}})=\\underset{{\\bf{w}}}{\\min}\\left(\\frac{1}{n}\\left\\Vert {\\bf{X}}{\\bf{w}}-{\\bf{y}}\\right\\Vert _{2}^{2}+\\lambda\\left\\Vert {\\bf{w}}\\right\\Vert _{2}^{2}\\right)$\n",
    "\n",
    "- Weather forecast dataset\n",
    "    - 23 features: max / min air temperature, forecast of next day temperatures, precipitations, wind speed...\n",
    "        - We use only 20 features: $\\bf{X}$ is a $1000\\times 20$ matrix containing 1000 dataset entries.\n",
    "    - Target: to predict the right next day temperature (bias correction of forecast model)\n",
    "        -  Thus, ${\\bf{y}}$ is a $1000\\times1$ vector containing the regression target (i.e., actual next day maximum temperature)"
   ]
  },
  {
   "cell_type": "code",
   "execution_count": 5,
   "id": "2d6c53ac",
   "metadata": {},
   "outputs": [],
   "source": [
    "#load data\n",
    "X,y = load_data(\"regression\", 4)\n",
    "n,d = X.shape\n",
    "#data normalisation\n",
    "X = sc.stats.zscore(X)\n",
    "y = sc.stats.zscore(y)"
   ]
  },
  {
   "cell_type": "code",
   "execution_count": 6,
   "id": "01823f1f",
   "metadata": {},
   "outputs": [],
   "source": [
    "# Constant parameters\n",
    "lamb = 0.1  #regularisation parameter\n",
    "Niter=600   # Number of iterations for each algorithm"
   ]
  },
  {
   "cell_type": "code",
   "execution_count": 9,
   "id": "ccb3eeae",
   "metadata": {},
   "outputs": [],
   "source": [
    "#cvx_solver\n",
    "def solver_cvx(n,X,Y,lamb,objective_fn):\n",
    "    n_columns = X.shape[1]\n",
    "    w = cp.Variable(n_columns)\n",
    "    lambd = cp.Parameter(nonneg=True)\n",
    "    lambd.value = lamb\n",
    "    problem = cp.Problem(\n",
    "        cp.Minimize(objective_fn(n, X, Y, w, lambd))\n",
    "    )\n",
    "    problem.solve()\n",
    "    return w.value"
   ]
  },
  {
   "cell_type": "code",
   "execution_count": 12,
   "id": "1e31884a",
   "metadata": {},
   "outputs": [
    {
     "name": "stdout",
     "output_type": "stream",
     "text": [
      "The loss function f at the optimum takes the value 0.3388340670437767\n"
     ]
    }
   ],
   "source": [
    "# Get the optimum value for comparison purposes \n",
    "#===================================\n",
    "loss_fn = lambda n, X, Y, w: (1/n)*cp.pnorm(X @ w - Y, p=2)**2\n",
    "reg_L1 = lambda w: cp.pnorm(w, p=1)\n",
    "loss_lasso = lambda n, X, Y, w, lambd: loss_fn(n, X, Y, w) + lambd * reg_L1(w)\n",
    "\n",
    "\n",
    "# Solution of the empirical risk using CVX\n",
    "#=========================================\n",
    "w_lasso_cvx=solver_cvx(n,X,y,lamb,loss_lasso)\n",
    "\n",
    "w = cp.Variable(w_lasso_cvx.shape[0])\n",
    "w.value = w_lasso_cvx\n",
    "f_cvx=loss_lasso(n,X,y,w_lasso_cvx,lamb).value\n",
    "\n",
    "print(f'The loss function f at the optimum takes the value {f_cvx}')"
   ]
  },
  {
   "cell_type": "code",
   "execution_count": 14,
   "id": "1442c2db",
   "metadata": {},
   "outputs": [],
   "source": [
    "eta = 0.1  # Constant step size"
   ]
  },
  {
   "cell_type": "code",
   "execution_count": 25,
   "id": "d6e26135",
   "metadata": {},
   "outputs": [],
   "source": [
    "#Function that estimates the loss for several w at once.\n",
    "f = lambda n, X, Y, w, lambd: (1/n)*np.sum((X@w - np.kron(Y.reshape(-1,1),np.ones((1,Niter+1))))**2, axis=0) + lambd*np.sum(np.abs(w),axis=0)\n",
    "\n",
    "\n",
    "# FISTA\n",
    "w_fista = np.zeros((d,Niter+1))\n",
    "v_fista = np.zeros((d,Niter+1))\n",
    "\n",
    "for k in range(Niter):\n",
    "    #Complete the code including the updating formulas. Keep the weight values for all the iterations\n",
    "    \n",
    "    v_fista = ...\n",
    "\n",
    "f_fista=f(n,X,y,v_fista,lamb)"
   ]
  },
  {
   "cell_type": "code",
   "execution_count": 26,
   "id": "48db06ee",
   "metadata": {},
   "outputs": [
    {
     "data": {
      "image/png": "[encoded data removed]",
      "text/plain": [
       "<Figure size 640x480 with 1 Axes>"
      ]
     },
     "metadata": {},
     "output_type": "display_data"
    }
   ],
   "source": [
    "plt.rcParams.update({\n",
    "    \"text.usetex\": True,\n",
    "    \"font.family\": \"Helvetica\"\n",
    "})\n",
    "t = range(Niter+1)\n",
    "plt.plot(t, 10*np.log10((f_fista-f_cvx)**2+np.finfo(float).eps), color = 'b',label = 'FISTA')\n",
    "plt.grid()\n",
    "plt.legend()\n",
    "plt.xlabel('Iteration')\n",
    "plt.ylabel(r'$10\\log(f({\\bf{x}})-f*)^2)$ (MSE)')\n",
    "plt.show()"
   ]
  },
  {
   "cell_type": "code",
   "execution_count": null,
   "id": "40f9ca9b",
   "metadata": {},
   "outputs": [],
   "source": []
  }
 ],
 "metadata": {
  "kernelspec": {
   "display_name": "Python 3 (ipykernel)",
   "language": "python",
   "name": "python3"
  },
  "language_info": {
   "codemirror_mode": {
    "name": "ipython",
    "version": 3
   },
   "file_extension": ".py",
   "mimetype": "text/x-python",
   "name": "python",
   "nbconvert_exporter": "python",
   "pygments_lexer": "ipython3",
   "version": "3.9.13"
  }
 },
 "nbformat": 4,
 "nbformat_minor": 5
}
