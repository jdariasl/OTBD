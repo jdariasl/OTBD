{
 "cells": [
  {
   "cell_type": "code",
   "execution_count": null,
   "id": "00e812b4",
   "metadata": {},
   "outputs": [],
   "source": [
    "loss_fn = lambda n, X, Y, w: (1/n)*cp.pnorm(X @ w - Y, p=2)**2\n",
    "reg_L2 = lambda w: cp.pnorm(w, p=2)**2\n",
    "reg_L1 = lambda w: cp.pnorm(w, p=1)\n",
    "\n",
    "loss_LS = lambda n, X, Y, w, lambd: loss_fn(n, X, Y, w)\n",
    "\n",
    "#Ridge regression\n",
    "loss_LS_L2 = lambda n, X, Y, w, lambd: loss_fn(n, X, Y, w) + (lambd/2) * reg_L2(w)\n",
    "\n",
    "#LASSO\n",
    "loss_LS_L1 = lambda n, X, Y, w, lambd: loss_fn(n, X, Y, w) + lambd * reg_L1(w)\n"
   ]
  },
  {
   "cell_type": "code",
   "execution_count": null,
   "id": "319dea48",
   "metadata": {},
   "outputs": [],
   "source": [
    "loss_fn = lambda n, X, Y, w: (1/n)*cp.sum(cp.logistic(cp.multiply(-Y,(X @ w))))\n",
    "reg_L2 = lambda w: cp.pnorm(w, p=2)**2\n",
    "reg_L1 = lambda w: cp.pnorm(w, p=1)\n",
    "\n",
    "#Logistic regression\n",
    "loss_LS = lambda n, X, Y, w, lambd: loss_fn(n, X, Y, w)\n",
    "\n",
    "#Logistic regression + L2 regularisation\n",
    "loss_LS_L2 = lambda n, X, Y, w, lambd: loss_fn(n, X, Y, w) + (lambd/2) * reg_L2(w)\n",
    "\n",
    "#Logistic regression + L1 regularisation\n",
    "loss_LS_L1 = lambda n, X, Y, w, lambd: loss_fn(n, X, Y, w) + lambd * reg_L1(w)"
   ]
  },
  {
   "cell_type": "code",
   "execution_count": null,
   "id": "e62cb6bd",
   "metadata": {},
   "outputs": [],
   "source": [
    "#Linear SVM\n",
    "loss_fn = lambda n, X, Y, w: (1/n)*cp.sum(cp.pos(1-cp.multiply(Y,X @ w)))\n",
    "reg_L2 = lambda w: cp.pnorm(w, p=2)**2\n",
    "loss_svm_L2 = lambda n, X, Y, w, lambd: loss_fn(n, X, Y, w) + (lambd/2) * reg_L2(w)"
   ]
  }
 ],
 "metadata": {
  "kernelspec": {
   "display_name": "Python 3 (ipykernel)",
   "language": "python",
   "name": "python3"
  },
  "language_info": {
   "codemirror_mode": {
    "name": "ipython",
    "version": 3
   },
   "file_extension": ".py",
   "mimetype": "text/x-python",
   "name": "python",
   "nbconvert_exporter": "python",
   "pygments_lexer": "ipython3",
   "version": "3.9.13"
  }
 },
 "nbformat": 4,
 "nbformat_minor": 5
}