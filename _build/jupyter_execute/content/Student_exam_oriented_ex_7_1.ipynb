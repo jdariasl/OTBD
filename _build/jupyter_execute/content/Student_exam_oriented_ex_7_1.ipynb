{
 "cells": [
  {
   "cell_type": "markdown",
   "id": "79a193ed",
   "metadata": {},
   "source": [
    "# Student_exam_oriented_ex_7_1"
   ]
  },
  {
   "cell_type": "code",
   "execution_count": null,
   "id": "360ad3f5",
   "metadata": {},
   "outputs": [],
   "source": [
    "!wget --no-cache -O init.py -q https://raw.githubusercontent.com/jdariasl/OTBD/main/content/init.py\n",
    "import init; init.init(force_download=False)"
   ]
  },
  {
   "cell_type": "code",
   "execution_count": null,
   "id": "37de4d01",
   "metadata": {},
   "outputs": [],
   "source": [
    "#!sudo apt install cm-super dvipng texlive-latex-extra texlive-latex-recommended"
   ]
  },
  {
   "cell_type": "code",
   "execution_count": 1,
   "id": "b381d4ea",
   "metadata": {},
   "outputs": [],
   "source": [
    "import numpy as np\n",
    "from local.lib.data import load_data\n",
    "import scipy as sc\n",
    "import matplotlib.pyplot as plt"
   ]
  },
  {
   "cell_type": "code",
   "execution_count": null,
   "id": "cfcef621",
   "metadata": {},
   "outputs": [],
   "source": [
    "#!pip install cvxpy"
   ]
  },
  {
   "cell_type": "code",
   "execution_count": 2,
   "id": "bc6fc4d2",
   "metadata": {},
   "outputs": [],
   "source": [
    "import cvxpy as cp"
   ]
  },
  {
   "cell_type": "markdown",
   "id": "128b42b2",
   "metadata": {},
   "source": [
    "## Exercise\n",
    "\n",
    "\n",
    "- Algorithm: ADMM\n",
    "- Problem: LASSO\n",
    "\n",
    "$\\underset{{\\bf{w}}}{\\min}f({\\bf{w}})=\\underset{{\\bf{w}}}{\\min}\\left(\\frac{1}{n}\\left\\Vert {\\bf{X}}{\\bf{w}}-{\\bf{y}}\\right\\Vert _{2}^{2}+\\lambda\\left\\Vert {\\bf{w}}\\right\\Vert _{1}\\right)$\n",
    "\n",
    "- Data: Boston housing dataset\n",
    "    - 13 features: crime rate, proportion of non-retail business, $\\textrm{N}\\textrm{O}_{2}$ concentration, number of rooms per house...\n",
    "        - We use only 12 features: $\\bf{X}$ is a $400\\times12$ matrix containing 400 dataset entries.\n",
    "    - Target: to predict the price of the houses (in thousands of \\$).\n",
    "        -  Thus, ${\\bf{y}}$ is a $400\\times1$ vector containing the regression target (i.e., the price)"
   ]
  },
  {
   "cell_type": "code",
   "execution_count": 3,
   "id": "b5b539d5",
   "metadata": {},
   "outputs": [],
   "source": [
    "#load data\n",
    "X,y = load_data(\"regression\", 1)\n",
    "n,d = X.shape\n",
    "#data normalisation\n",
    "X = sc.stats.zscore(X)\n",
    "y = sc.stats.zscore(y)"
   ]
  },
  {
   "cell_type": "code",
   "execution_count": 4,
   "id": "7ff96bc5",
   "metadata": {},
   "outputs": [],
   "source": [
    "# Constant parameters\n",
    "lamb = 0.1   #regularisation parameter\n",
    "Niter= 500   # Number of iterations for each algorithm"
   ]
  },
  {
   "cell_type": "code",
   "execution_count": 5,
   "id": "16b15227",
   "metadata": {},
   "outputs": [],
   "source": [
    "#cvx_solver\n",
    "def solver_cvx(n,X,Y,lamb,objective_fn):\n",
    "    n_columns = X.shape[1]\n",
    "    w = cp.Variable(n_columns)\n",
    "    lambd = cp.Parameter(nonneg=True)\n",
    "    lambd.value = lamb\n",
    "    problem = cp.Problem(\n",
    "        cp.Minimize(objective_fn(n, X, Y, w, lambd))\n",
    "    )\n",
    "    problem.solve()\n",
    "    return w.value"
   ]
  },
  {
   "cell_type": "code",
   "execution_count": 6,
   "id": "6fb8598f",
   "metadata": {},
   "outputs": [
    {
     "name": "stdout",
     "output_type": "stream",
     "text": [
      "The loss function f at the optimum takes the value 0.4322238949006313\n"
     ]
    }
   ],
   "source": [
    "# Get the optimum value for comparison purposes \n",
    "#===================================\n",
    "loss_fn = lambda n, X, Y, w: (1/n)*cp.pnorm(X @ w - Y, p=2)**2\n",
    "reg_L1 = lambda w: cp.pnorm(w, p=1)\n",
    "loss_lasso = lambda n, X, Y, w, lambd: loss_fn(n, X, Y, w) + lambd * reg_L1(w)\n",
    "\n",
    "\n",
    "# Solution of the empirical risk using CVX\n",
    "#=========================================\n",
    "w_lasso_cvx=solver_cvx(n,X,y,lamb,loss_lasso)\n",
    "\n",
    "w = cp.Variable(w_lasso_cvx.shape[0])\n",
    "w.value = w_lasso_cvx\n",
    "f_cvx=loss_lasso(n,X,y,w_lasso_cvx,lamb).value\n",
    "\n",
    "print(f'The loss function f at the optimum takes the value {f_cvx}')"
   ]
  },
  {
   "cell_type": "code",
   "execution_count": 7,
   "id": "b976a819",
   "metadata": {},
   "outputs": [],
   "source": [
    "#Function that estimates the loss for several w at once.\n",
    "f = lambda n, X, Y, w, lambd: (1/n)*np.sum((X@w - np.kron(Y.reshape(-1,1),np.ones((1,Niter+1))))**2, axis=0) + lambd*np.sum(np.abs(w),axis=0)"
   ]
  },
  {
   "cell_type": "code",
   "execution_count": 9,
   "id": "7ed2e6d4",
   "metadata": {},
   "outputs": [],
   "source": [
    "# ADMM centralized\n",
    "\n",
    "#Constants\n",
    "ro=0.1  # Quadratic term\n",
    "w_admm_c = np.zeros((d,Niter+1))\n",
    "z_admm_c = np.zeros((d,Niter+1))\n",
    "u_admm_c = np.zeros((d,Niter+1))\n",
    "\n",
    "\n",
    "for k in range(Niter):\n",
    "    #Complete the code including the updating formulas for centrilized ADMM. \n",
    "    # Keep the weigths values for all the iterations\n",
    "    w_admm_c[:,k+1]=...\n",
    "\n",
    "f_admm_c=f(n,X,y,w_admm_c,lamb)"
   ]
  },
  {
   "cell_type": "code",
   "execution_count": 10,
   "id": "69c985c5",
   "metadata": {},
   "outputs": [
    {
     "data": {
      "image/png": "[encoded data removed]",
      "text/plain": [
       "<Figure size 640x480 with 1 Axes>"
      ]
     },
     "metadata": {},
     "output_type": "display_data"
    }
   ],
   "source": [
    "plt.rcParams.update({\n",
    "    \"text.usetex\": True,\n",
    "    \"font.family\": \"Helvetica\"\n",
    "})\n",
    "t = range(Niter+1)\n",
    "plt.plot(t, 10*np.log10((f_admm_c-f_cvx)**2+np.finfo(float).eps), color = 'r',label = 'ADMM')\n",
    "plt.grid()\n",
    "plt.legend()\n",
    "plt.xlabel('Iteration')\n",
    "plt.ylabel(r'$10\\log(f({\\bf{x}})-f*)^2)$ (MSE)')\n",
    "plt.show()"
   ]
  },
  {
   "cell_type": "code",
   "execution_count": null,
   "id": "4c6af1e6",
   "metadata": {},
   "outputs": [],
   "source": []
  }
 ],
 "metadata": {
  "kernelspec": {
   "display_name": "Python 3 (ipykernel)",
   "language": "python",
   "name": "python3"
  },
  "language_info": {
   "codemirror_mode": {
    "name": "ipython",
    "version": 3
   },
   "file_extension": ".py",
   "mimetype": "text/x-python",
   "name": "python",
   "nbconvert_exporter": "python",
   "pygments_lexer": "ipython3",
   "version": "3.9.13"
  }
 },
 "nbformat": 4,
 "nbformat_minor": 5
}