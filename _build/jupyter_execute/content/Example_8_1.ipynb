{
 "cells": [
  {
   "cell_type": "markdown",
   "id": "e3b391d5",
   "metadata": {},
   "source": [
    "# Example_8_1"
   ]
  },
  {
   "cell_type": "code",
   "execution_count": null,
   "id": "83ba2009",
   "metadata": {},
   "outputs": [],
   "source": [
    "!wget --no-cache -O init.py -q https://raw.githubusercontent.com/jdariasl/OTBD/main/content/init.py\n",
    "import init; init.init(force_download=False)"
   ]
  },
  {
   "cell_type": "code",
   "execution_count": 1,
   "id": "1b2cbe7b",
   "metadata": {},
   "outputs": [
    {
     "name": "stderr",
     "output_type": "stream",
     "text": [
      "2023-10-19 10:29:08.860471: I tensorflow/core/platform/cpu_feature_guard.cc:182] This TensorFlow binary is optimized to use available CPU instructions in performance-critical operations.\n",
      "To enable the following instructions: AVX2 FMA, in other operations, rebuild TensorFlow with the appropriate compiler flags.\n"
     ]
    }
   ],
   "source": [
    "from local.lib.Generation import scenarios_regression\n",
    "import cvxpy as cp\n",
    "from local.lib.utils import solver_cvx, grad_FOM, grad_SOM, bcd_ridge, eval_loss, make_graph, ridge_tf\n",
    "import matplotlib.pyplot as plt\n",
    "import numpy as np\n",
    "import tensorflow as tf\n",
    "%load_ext tensorboard"
   ]
  },
  {
   "cell_type": "markdown",
   "id": "5a0901a3",
   "metadata": {},
   "source": [
    "Let us assume the general problem in the most general formulation\n",
    "form\n",
    "$$\\min_{{\\bf{x}}} \\frac{1}{n}\\left\\Vert {\\bf{A}}{\\bf{x}}-{\\bf{b}}\\right\\Vert _{2}^{2}+\\frac{\\lambda}{2}\\left\\Vert {\\bf{x}}\\right\\Vert _{2}^{2}$$\n",
    "\n",
    "Solve it using symbolic computation and plot the **computational graph**."
   ]
  },
  {
   "cell_type": "code",
   "execution_count": 2,
   "id": "88bd09ef",
   "metadata": {},
   "outputs": [
    {
     "name": "stdout",
     "output_type": "stream",
     "text": [
      "[ 0.16023644  0.12285387  0.89986317  0.18954107  0.42294006 -0.32553393\n",
      "  0.20695549  0.13894403  0.03981359 -0.68473685  0.30388745  0.53416152] [ 0.16025958  0.12295171  0.89957929  0.18967444  0.42282234 -0.32539201\n",
      "  0.20685134  0.13900141  0.03980838 -0.68462043  0.30373045  0.53409645]\n"
     ]
    }
   ],
   "source": [
    "# Loading scenarios\n",
    "# ===========================\n",
    "scenario=4\n",
    "data_reg, set_up=scenarios_regression(scenario);\n",
    "\n",
    "# Definition of the problem\n",
    "#===================================\n",
    "loss_fn = lambda n, X, Y, w: (1/n)*cp.pnorm(X @ w - Y, p=2)**2\n",
    "reg_L2 = lambda w: cp.pnorm(w, p=2)**2\n",
    "\n",
    "loss_LS_L2 = lambda n, X, Y, w, lambd: loss_fn(n, X, Y, w) + (lambd/2) * reg_L2(w)\n",
    "grad_LS_L2 = lambda n, X, Y, w, lambd: (2/n)*X.T@(X @ w - Y) + lambd * w\n",
    "Hess_LS_L2 = lambda n, X, Y, w, lambd: (2/n)*X.T@X + lambd * np.eye(X.shape[1])\n",
    "\n",
    "\n",
    "\n",
    "# Different ways to solve theoreticaly the LS\n",
    "#=========================================\n",
    "# Solution of the empirical risk using CVX\n",
    "\n",
    "w_L2_cvx=solver_cvx(set_up,loss_LS_L2);\n",
    "\n",
    "Xtrain = set_up['Xtrain'][:,:set_up['d']+1]\n",
    "w_opt=np.linalg.inv(2/set_up['Niter_train']*Xtrain.T@Xtrain + set_up['Lambda']*np.eye(set_up['d']+1))@((2/set_up['Niter_train'])*Xtrain.T)@set_up['ytrain'][:,0];\n",
    "\n",
    "w = cp.Variable(w_L2_cvx.shape[0])\n",
    "w.value = w_L2_cvx\n",
    "loss_opt=loss_LS_L2(set_up['Niter_train'],set_up['Xtrain'][:,0:set_up['d']+1],set_up['ytrain'][:,0],w_L2_cvx,set_up['Lambda']).value\n",
    "print(w_L2_cvx, w_opt)\n",
    "\n",
    "          \n",
    "# Gradient descent\n",
    "out_gd = grad_FOM(set_up,grad_LS_L2)\n",
    "loss_grad=eval_loss(out_gd,set_up,loss_LS_L2)\n",
    "\n",
    "# Newton algorithm\n",
    "out_hess =grad_SOM(set_up,grad_LS_L2,Hess_LS_L2)\n",
    "loss_hess=eval_loss(out_hess,set_up,loss_LS_L2)\n",
    "\n",
    "#TF symbolic computation\n",
    "@tf.function\n",
    "def loss_LS_L2_TF(Xtrain, Ytrain, w, lamb): \n",
    "    return tf.reduce_mean(tf.square((tf.matmul(Xtrain,w)-Ytrain))) + (lamb/2)*tf.square(tf.norm(w))\n",
    "\n",
    "out_tf = ridge_tf(set_up,loss_LS_L2_TF)\n",
    "loss_tf=eval_loss(out_tf.T,set_up,loss_LS_L2)"
   ]
  },
  {
   "cell_type": "markdown",
   "id": "88851911",
   "metadata": {},
   "source": [
    "## Let's plot the computational graph"
   ]
  },
  {
   "cell_type": "code",
   "execution_count": 5,
   "id": "0be54c65",
   "metadata": {},
   "outputs": [
    {
     "name": "stdout",
     "output_type": "stream",
     "text": [
      "WARNING:tensorflow:Trace already enabled\n",
      "<tensorflow.python.eager.polymorphic_function.polymorphic_function.Function object at 0x7f7faf749940>\n"
     ]
    }
   ],
   "source": [
    "!rm -rf logs\n",
    "w = tf.Variable(initial_value=np.array(set_up[\"Initial\"]).reshape(-1,1), dtype=tf.float32)\n",
    "Xtrain = set_up['Xtrain'][:,:set_up['d']+1]\n",
    "Xtrain =  Xtrain.astype(np.float32)\n",
    "Ytrain = np.array(set_up['ytrain'][:,0]).reshape(-1,1).astype(np.float32)\n",
    "lamb = set_up[\"Lambda\"]\n",
    "make_graph(loss_LS_L2_TF, Xtrain,Ytrain,w,lamb, logdir=\"logs\")"
   ]
  },
  {
   "cell_type": "code",
   "execution_count": 6,
   "id": "0fbdb258",
   "metadata": {
    "scrolled": false
   },
   "outputs": [
    {
     "data": {
      "text/plain": [
       "Reusing TensorBoard on port 6006 (pid 47595), started 16:10:07 ago. (Use '!kill 47595' to kill it.)"
      ]
     },
     "metadata": {},
     "output_type": "display_data"
    },
    {
     "data": {
      "text/html": [
       "\n",
       "      <iframe id=\"tensorboard-frame-ea57c7a80ef005be\" width=\"100%\" height=\"800\" frameborder=\"0\">\n",
       "      </iframe>\n",
       "      <script>\n",
       "        (function() {\n",
       "          const frame = document.getElementById(\"tensorboard-frame-ea57c7a80ef005be\");\n",
       "          const url = new URL(\"/\", window.location);\n",
       "          const port = 6006;\n",
       "          if (port) {\n",
       "            url.port = port;\n",
       "          }\n",
       "          frame.src = url;\n",
       "        })();\n",
       "      </script>\n",
       "    "
      ],
      "text/plain": [
       "<IPython.core.display.HTML object>"
      ]
     },
     "metadata": {},
     "output_type": "display_data"
    }
   ],
   "source": [
    "%tensorboard --logdir logs"
   ]
  },
  {
   "cell_type": "code",
   "execution_count": 7,
   "id": "dc488aba",
   "metadata": {},
   "outputs": [
    {
     "data": {
      "image/png": "[encoded data removed]",
      "text/plain": [
       "<Figure size 640x480 with 1 Axes>"
      ]
     },
     "metadata": {},
     "output_type": "display_data"
    }
   ],
   "source": [
    "# Plot of learning curves\n",
    "plt.plot(np.arange(0,set_up['Niter_train']),10*np.log10(np.sum((loss_grad-loss_opt*np.ones((1,set_up['Niter_train'])))**2,axis=0)),color='b', linewidth = 3)\n",
    "plt.plot(np.arange(0,set_up['Niter_train']),10*np.log10(np.sum((loss_hess-loss_opt*np.ones((1,set_up['Niter_train'])))**2,axis=0)),color='r', linewidth = 3)\n",
    "plt.plot(np.arange(0,set_up['Niter_train']),10*np.log10(np.sum((loss_tf-loss_opt*np.ones((1,set_up['Niter_train'])))**2,axis=0)),color='g', linewidth = 3),\n",
    "plt.xlabel('Iterations')\n",
    "plt.ylabel('MSE')\n",
    "plt.grid()\n",
    "plt.legend(['Gradient','Newton','TF'])\n",
    "plt.title('Ridge. Different implementations')\n",
    "plt.show()"
   ]
  },
  {
   "cell_type": "code",
   "execution_count": null,
   "id": "5e6f8ac6",
   "metadata": {},
   "outputs": [],
   "source": []
  }
 ],
 "metadata": {
  "kernelspec": {
   "display_name": "Python 3 (ipykernel)",
   "language": "python",
   "name": "python3"
  },
  "language_info": {
   "codemirror_mode": {
    "name": "ipython",
    "version": 3
   },
   "file_extension": ".py",
   "mimetype": "text/x-python",
   "name": "python",
   "nbconvert_exporter": "python",
   "pygments_lexer": "ipython3",
   "version": "3.9.15"
  }
 },
 "nbformat": 4,
 "nbformat_minor": 5
}