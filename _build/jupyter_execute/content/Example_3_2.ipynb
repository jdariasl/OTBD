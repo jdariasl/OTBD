{
 "cells": [
  {
   "cell_type": "markdown",
   "id": "5056976a",
   "metadata": {},
   "source": [
    "# Example_3_2"
   ]
  },
  {
   "cell_type": "markdown",
   "id": "e6846cf0",
   "metadata": {},
   "source": [
    "Estimate the eigenvalues of a non-full rank matrix and its regulirized version."
   ]
  },
  {
   "cell_type": "code",
   "execution_count": 1,
   "id": "b354b964",
   "metadata": {},
   "outputs": [],
   "source": [
    "import numpy as np"
   ]
  },
  {
   "cell_type": "code",
   "execution_count": 6,
   "id": "4be44249",
   "metadata": {},
   "outputs": [
    {
     "name": "stdout",
     "output_type": "stream",
     "text": [
      "[ 1.31676619e+01  9.24699069e+00  4.04156667e+00  2.72335139e+00\n",
      "  1.01943370e+00  2.74643828e-16 -2.17648906e-16]\n"
     ]
    }
   ],
   "source": [
    "n_rows=5;\n",
    "n_columns =7;\n",
    "wlambda=1;\n",
    "A=np.random.randn(n_rows,n_columns);\n",
    "# Calculate eigenvalues with lambda=0\n",
    "eigenvalues, _ = np.linalg.eig(2/n_rows*A.T@A)\n",
    "print(eigenvalues)"
   ]
  },
  {
   "cell_type": "code",
   "execution_count": 8,
   "id": "a2b06e6d",
   "metadata": {},
   "outputs": [
    {
     "name": "stdout",
     "output_type": "stream",
     "text": [
      "[14.16766186 10.24699069  5.04156667  3.72335139  2.0194337   1.\n",
      "  1.        ]\n"
     ]
    }
   ],
   "source": [
    "# Calculate eigenvalues with lambda=1\n",
    "eigenvalues, _  = np.linalg.eig(2/n_rows*A.T@A+wlambda*np.eye(n_columns))\n",
    "print(eigenvalues)"
   ]
  },
  {
   "cell_type": "code",
   "execution_count": null,
   "id": "264a9c7d",
   "metadata": {},
   "outputs": [],
   "source": []
  }
 ],
 "metadata": {
  "kernelspec": {
   "display_name": "Python 3 (ipykernel)",
   "language": "python",
   "name": "python3"
  },
  "language_info": {
   "codemirror_mode": {
    "name": "ipython",
    "version": 3
   },
   "file_extension": ".py",
   "mimetype": "text/x-python",
   "name": "python",
   "nbconvert_exporter": "python",
   "pygments_lexer": "ipython3",
   "version": "3.9.13"
  }
 },
 "nbformat": 4,
 "nbformat_minor": 5
}