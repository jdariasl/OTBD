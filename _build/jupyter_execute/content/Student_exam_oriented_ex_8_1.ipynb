{
 "cells": [
  {
   "cell_type": "markdown",
   "id": "79a193ed",
   "metadata": {},
   "source": [
    "# Student_exam_oriented_ex_8_1"
   ]
  },
  {
   "cell_type": "code",
   "execution_count": 1,
   "id": "360ad3f5",
   "metadata": {},
   "outputs": [],
   "source": [
    "!wget --no-cache -O init.py -q https://raw.githubusercontent.com/jdariasl/OTBD/main/content/init.py\n",
    "import init; init.init(force_download=False)"
   ]
  },
  {
   "cell_type": "code",
   "execution_count": 2,
   "id": "37de4d01",
   "metadata": {},
   "outputs": [],
   "source": [
    "#!sudo apt install cm-super dvipng texlive-latex-extra texlive-latex-recommended"
   ]
  },
  {
   "cell_type": "code",
   "execution_count": 12,
   "id": "b381d4ea",
   "metadata": {},
   "outputs": [
    {
     "name": "stderr",
     "output_type": "stream",
     "text": [
      "2023-10-19 16:07:59.616072: I tensorflow/core/platform/cpu_feature_guard.cc:182] This TensorFlow binary is optimized to use available CPU instructions in performance-critical operations.\n",
      "To enable the following instructions: AVX2 FMA, in other operations, rebuild TensorFlow with the appropriate compiler flags.\n"
     ]
    }
   ],
   "source": [
    "import numpy as np\n",
    "from local.lib.data import load_data\n",
    "import scipy as sc\n",
    "import matplotlib.pyplot as plt\n",
    "import tensorflow as tf"
   ]
  },
  {
   "cell_type": "code",
   "execution_count": 4,
   "id": "cfcef621",
   "metadata": {},
   "outputs": [],
   "source": [
    "#!pip install cvxpy"
   ]
  },
  {
   "cell_type": "code",
   "execution_count": 3,
   "id": "bc6fc4d2",
   "metadata": {},
   "outputs": [],
   "source": [
    "import cvxpy as cp"
   ]
  },
  {
   "cell_type": "markdown",
   "id": "128b42b2",
   "metadata": {},
   "source": [
    "## Exercise\n",
    "\n",
    "\n",
    "- Algorithm: Centralised ADMM using TF\n",
    "- Problem: Binary classification using SVM\n",
    "\n",
    "$$\\underset{{\\bf{w}}}{\\arg\\min}f({\\bf{w}})=\\underset{{\\bf{w}}\\in\\mathbb{R}^{d+1}}{\\textrm{ arg min}}\\left(\\frac{1}{n}\\sum_{i=1}^n\\textrm{max}\\left(1-y_{i}\\left({\\bf{w}}^{T}{\\bf{x}}_{i}\\right),0\\right)+\\frac{\\lambda}{2}\\left\\Vert {\\bf{w}}\\right\\Vert _{2}^{2}\\right)$$\n",
    "\n",
    "- Breast cancer dataset\n",
    "    - 10 features: ID of patient and biological properties of the tumor.\n",
    "        - We use 8 features: $\\bf{X}$ is a $500\\times 8$ matrix containing 500 dataset entries.\n",
    "    - Target: to classify the tumor as malign or benign.\n",
    "        -  Thus, ${\\bf{y}}$ is a $500\\times1$ vector containing the labels\n",
    "        \n",
    "**Hints:**\n",
    "\n",
    "You must optimise the extended lagrangian function:\n",
    "\n",
    "$$\n",
    "L_{\\rho}\\left({\\bf{w}},{\\bf{z}},{\\bf{\\beta}}\\right)=g\\left({\\bf{w}}\\right)+h\\left({\\bf{z}}\\right)+{\\bf{\\beta}}^{T}\\left({\\bf{w}}-{\\bf{z}}\\right)+\\frac{\\rho}{2}\\left\\Vert {\\bf{w}}-{\\bf{z}}\\right\\Vert _{2}^{2}\n",
    "$$\n",
    "\n",
    "Since the regularization term is the $L_2$ norm, you can either (**1**) use the analytical solution for ${\\bf{z}}$ or (**2**) optimse the lagrangian for ${\\bf{z}}$ using autograd."
   ]
  },
  {
   "cell_type": "code",
   "execution_count": 4,
   "id": "b5b539d5",
   "metadata": {},
   "outputs": [],
   "source": [
    "#load data\n",
    "X,y = load_data(\"classification\", 7)\n",
    "n,d = X.shape"
   ]
  },
  {
   "cell_type": "code",
   "execution_count": 5,
   "id": "7ff96bc5",
   "metadata": {},
   "outputs": [],
   "source": [
    "# Constant parameters\n",
    "lamb = 0.01   # regularisation parameter\n",
    "Niter= 3000   # Number of iterations for each algorithm\n",
    "eta = 0.001   # step size "
   ]
  },
  {
   "cell_type": "code",
   "execution_count": 8,
   "id": "16b15227",
   "metadata": {},
   "outputs": [],
   "source": [
    "#cvx_solver\n",
    "def solver_cvx(n,X,Y,lamb,objective_fn):\n",
    "    n_columns = X.shape[1]\n",
    "    w = cp.Variable(n_columns)\n",
    "    lambd = cp.Parameter(nonneg=True)\n",
    "    lambd.value = lamb\n",
    "    problem = cp.Problem(\n",
    "        cp.Minimize(objective_fn(n, X, Y, w, lambd))\n",
    "    )\n",
    "    problem.solve(solver=cp.ECOS)\n",
    "    return w.value"
   ]
  },
  {
   "cell_type": "code",
   "execution_count": 67,
   "id": "6fb8598f",
   "metadata": {},
   "outputs": [
    {
     "name": "stdout",
     "output_type": "stream",
     "text": [
      "The loss function f at the optimum takes the value 0.42642274201112185\n"
     ]
    }
   ],
   "source": [
    "# Definition of the problem\n",
    "#===================================\n",
    "loss_fn = lambda n, X, Y, w: (1/n)*cp.sum(cp.pos(1-cp.multiply(Y,X @ w)))\n",
    "reg_L2 = lambda w: cp.pnorm(w, p=2)**2\n",
    "loss_svm_L2 = lambda n, X, Y, w, lambd: loss_fn(n, X, Y, w) + (lambd/2) * reg_L2(w)\n",
    "\n",
    "# Solution of the empirical risk using CVX\n",
    "w_svm_cvx=solver_cvx(n,X,y,lamb,loss_svm_L2)\n",
    "\n",
    "w = cp.Variable(w_svm_cvx.shape[0])\n",
    "w.value = w_svm_cvx\n",
    "f_cvx=loss_svm_L2(n,X,y,w_svm_cvx,lamb).value\n",
    "\n",
    "print(f'The loss function f at the optimum takes the value {f_cvx}')\n",
    "\n",
    "f_cvx = (np.kron(f_cvx,np.ones((1,Niter+1)))).flatten()"
   ]
  },
  {
   "cell_type": "code",
   "execution_count": 10,
   "id": "b976a819",
   "metadata": {},
   "outputs": [],
   "source": [
    "#Function that estimates the loss for several w at once.\n",
    "f = lambda n, X, Y, w, lambd: (1/n)*np.sum(np.maximum(np.zeros((n,w.shape[1])),np.ones((n,w.shape[1]))-np.diag(Y)@(X@w)),axis=0) + (lambd/2)*np.sum(w**2,axis=0)"
   ]
  },
  {
   "cell_type": "code",
   "execution_count": 78,
   "id": "d3389e86",
   "metadata": {},
   "outputs": [],
   "source": [
    "# ADMM centralized with TF\n",
    "\n",
    "#Constants\n",
    "ro=1               # Quadratic term\n",
    "subgrad_steps = 10 #Number of gradient steps per ADMM update\n",
    "\n",
    "X =  X.astype(np.float32)\n",
    "y =  y.astype(np.float32)\n",
    "\n",
    "\n",
    "@tf.function\n",
    "def loss_lag(func_g,X,Y,w,z,b,lamb,rho):\n",
    "    # Define the langrangian function using TF primitives\n",
    "    return ...\n",
    "\n",
    "w = tf.Variable(initial_value=np.zeros(d).reshape(-1,1), dtype=tf.float32)\n",
    "z = tf.Variable(initial_value=np.zeros(d).reshape(-1,1), dtype=tf.float32)\n",
    "b = tf.Variable(initial_value=np.zeros(d).reshape(-1,1), dtype=tf.float32)\n",
    "w_admm_tf = [np.zeros(d)]\n",
    "\n",
    "#optimisation loop\n",
    "for _ in range(Niter):\n",
    "    for _ in range(subgrad_steps):\n",
    "        #Implement the updating formulas for w, z and beta. \n",
    "        with tf.GradientTape() as t:\n",
    "             \n",
    "            w...\n",
    "    \n",
    "    #Depending on the option for z, it can be optimised using analytical expressions or runing \n",
    "    # gradient descent for a number of subgrad_steps iterations.\n",
    "    z...\n",
    "    \n",
    "    b...\n",
    "    \n",
    "    w_admm_tf.append(w.numpy().flatten())\n",
    "w_admm_tf = np.r_[w_admm_tf]\n",
    "f_admm_tf=f(n,X,y,w_admm_tf.T,lamb)"
   ]
  },
  {
   "cell_type": "code",
   "execution_count": 79,
   "id": "b3a4c1e2",
   "metadata": {},
   "outputs": [
    {
     "data": {
      "image/png": "[encoded data removed]",
      "text/plain": [
       "<Figure size 640x480 with 1 Axes>"
      ]
     },
     "metadata": {},
     "output_type": "display_data"
    }
   ],
   "source": [
    "plt.rcParams.update({\n",
    "    \"text.usetex\": True,\n",
    "    \"font.family\": \"Helvetica\"\n",
    "})\n",
    "t = range(Niter+1)\n",
    "plt.plot(t, 10*np.log10((f_admm_tf-f_cvx)**2+np.finfo(float).eps), color = 'r',label = 'Centralised ADMM with TF')\n",
    "plt.grid()\n",
    "plt.legend()\n",
    "plt.xlabel('Iteration')\n",
    "plt.ylabel(r'$10\\log(f({\\bf{x}})-f*)^2)$ (MSE)')\n",
    "plt.show()"
   ]
  },
  {
   "cell_type": "code",
   "execution_count": null,
   "id": "d0216882",
   "metadata": {},
   "outputs": [],
   "source": []
  }
 ],
 "metadata": {
  "kernelspec": {
   "display_name": "Python 3 (ipykernel)",
   "language": "python",
   "name": "python3"
  },
  "language_info": {
   "codemirror_mode": {
    "name": "ipython",
    "version": 3
   },
   "file_extension": ".py",
   "mimetype": "text/x-python",
   "name": "python",
   "nbconvert_exporter": "python",
   "pygments_lexer": "ipython3",
   "version": "3.9.13"
  }
 },
 "nbformat": 4,
 "nbformat_minor": 5
}