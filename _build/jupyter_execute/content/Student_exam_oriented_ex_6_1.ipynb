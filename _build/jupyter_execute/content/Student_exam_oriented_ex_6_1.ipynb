{
 "cells": [
  {
   "cell_type": "markdown",
   "id": "79a193ed",
   "metadata": {},
   "source": [
    "# Student_exam_oriented_ex_6_1"
   ]
  },
  {
   "cell_type": "code",
   "execution_count": null,
   "id": "360ad3f5",
   "metadata": {},
   "outputs": [],
   "source": [
    "!wget --no-cache -O init.py -q https://raw.githubusercontent.com/jdariasl/OTBD/main/content/init.py\n",
    "import init; init.init(force_download=False)"
   ]
  },
  {
   "cell_type": "code",
   "execution_count": null,
   "id": "37de4d01",
   "metadata": {},
   "outputs": [],
   "source": [
    "#!sudo apt install cm-super dvipng texlive-latex-extra texlive-latex-recommended"
   ]
  },
  {
   "cell_type": "code",
   "execution_count": 1,
   "id": "b381d4ea",
   "metadata": {},
   "outputs": [],
   "source": [
    "import numpy as np\n",
    "from local.lib.data import load_data\n",
    "import scipy as sc\n",
    "import matplotlib.pyplot as plt"
   ]
  },
  {
   "cell_type": "code",
   "execution_count": null,
   "id": "cfcef621",
   "metadata": {},
   "outputs": [],
   "source": [
    "#!pip install cvxpy"
   ]
  },
  {
   "cell_type": "code",
   "execution_count": 2,
   "id": "bc6fc4d2",
   "metadata": {},
   "outputs": [],
   "source": [
    "import cvxpy as cp"
   ]
  },
  {
   "cell_type": "markdown",
   "id": "128b42b2",
   "metadata": {},
   "source": [
    "## Exercise\n",
    "\n",
    "\n",
    "- Algorithm: Block Coordinate Descent\n",
    "- Problem: Binary classification using an SVM.\n",
    "\n",
    "$\\underset{{\\bf{w}}}{\\arg\\min}f({\\bf{w}})=\\underset{{\\bf{w}}\\in\\mathbb{R}^{d+1}}{\\textrm{ arg min}}\\left(\\frac{1}{n}\\sum_{i=1}^n\\textrm{max}\\left(1-y_{i}\\left({\\bf{w}}^{T}{\\bf{x}}_{i}\\right),0\\right)+\\frac{\\lambda}{2}\\left\\Vert {\\bf{w}}\\right\\Vert _{2}^{2}\\right)$\n",
    "\n",
    "- Banknote authentication dataset\n",
    "    - 4 features: variance, skewness and curtosis of wavelet transform of image, and entropy of the image.\n",
    "        - We use 4 features: $\\bf{X}$ is a $500\\times 4$ matrix containing 500 dataset entries.\n",
    "    - Target: to predict the right class of the banknote (authentic or forged)\n",
    "        -  Thus, ${\\bf{y}}$ is a $500\\times1$ vector containing the classes\n",
    "\n",
    "Hint:\n",
    "\n",
    "The subgradient of $f({\\bf{w}})$ is equal to:\n",
    "\n",
    "$$\n",
    "g({\\bf{w}})=\\lambda {\\bf{w}} +\\frac{1}{n}\\sum_{i=1}^n \\begin{cases}\n",
    "\\begin{array}{c}\n",
    "0\\\\\n",
    "-y_{i}{\\bf{x}}_{i}\n",
    "\\end{array} & \\begin{array}{c}\n",
    "\\text{if}\\,\\,y_{i}{\\bf{w}}^T{\\bf{x}}_i>1\\\\\n",
    "\\text{if}\\,\\,y_{i}{\\bf{w}}^T{\\bf{x}}_i<1\n",
    "\\end{array}\\end{cases}\\label{eq:subgrad_svm_expression}\n",
    "$$"
   ]
  },
  {
   "cell_type": "code",
   "execution_count": 3,
   "id": "b5b539d5",
   "metadata": {},
   "outputs": [],
   "source": [
    "#load data\n",
    "X,y = load_data(\"classification\", 2)\n",
    "n,d = X.shape"
   ]
  },
  {
   "cell_type": "code",
   "execution_count": 5,
   "id": "7ff96bc5",
   "metadata": {},
   "outputs": [],
   "source": [
    "# Constant parameters\n",
    "lamb = 0.01   #regularisation parameter\n",
    "Niter= 1000   # Number of iterations for each algorithm"
   ]
  },
  {
   "cell_type": "code",
   "execution_count": 4,
   "id": "16b15227",
   "metadata": {},
   "outputs": [],
   "source": [
    "#cvx_solver\n",
    "def solver_cvx(n,X,Y,lamb,objective_fn):\n",
    "    n_columns = X.shape[1]\n",
    "    w = cp.Variable(n_columns)\n",
    "    lambd = cp.Parameter(nonneg=True)\n",
    "    lambd.value = lamb\n",
    "    problem = cp.Problem(\n",
    "        cp.Minimize(objective_fn(n, X, Y, w, lambd))\n",
    "    )\n",
    "    problem.solve()\n",
    "    return w.value"
   ]
  },
  {
   "cell_type": "code",
   "execution_count": 7,
   "id": "6fb8598f",
   "metadata": {},
   "outputs": [
    {
     "name": "stdout",
     "output_type": "stream",
     "text": [
      "The loss function f at the optimum takes the value 0.11017368019837978\n"
     ]
    }
   ],
   "source": [
    "# Definition of the problem\n",
    "#===================================\n",
    "loss_fn = lambda n, X, Y, w: (1/n)*cp.sum(cp.pos(1-cp.multiply(Y,X @ w)))\n",
    "reg_L2 = lambda w: cp.pnorm(w, p=2)**2\n",
    "loss_svm_L2 = lambda n, X, Y, w, lambd: loss_fn(n, X, Y, w) + (lambd/2) * reg_L2(w)\n",
    "\n",
    "# Solution of the empirical risk using CVX\n",
    "w_svm_cvx=solver_cvx(n,X,y,lamb,loss_svm_L2)\n",
    "\n",
    "w = cp.Variable(w_svm_cvx.shape[0])\n",
    "w.value = w_svm_cvx\n",
    "f_cvx=loss_svm_L2(n,X,y,w_svm_cvx,lamb).value\n",
    "\n",
    "print(f'The loss function f at the optimum takes the value {f_cvx}')\n",
    "\n",
    "f_cvx = (np.kron(f_cvx,np.ones((1,Niter+1)))).flatten()"
   ]
  },
  {
   "cell_type": "code",
   "execution_count": 18,
   "id": "b976a819",
   "metadata": {},
   "outputs": [],
   "source": [
    "#Function that estimates the loss for several w at once.\n",
    "f = lambda n, X, Y, w, lambd: (1/n)*np.sum(np.maximum(np.zeros((n,w.shape[1])),np.ones((n,w.shape[1]))-np.diag(Y)@(X@w)),axis=0) + (lambd/2)*np.sum(w**2,axis=0)"
   ]
  },
  {
   "cell_type": "code",
   "execution_count": 19,
   "id": "7ed2e6d4",
   "metadata": {},
   "outputs": [],
   "source": [
    "# Block Coordinate Descent\n",
    "\n",
    "#Constants\n",
    "eta = 0.01        # learning rate\n",
    "p = 2             # Number of blocks: ensure that Nc can be divided by p!!\n",
    "m = d / p         # Number of variables per block\n",
    "\n",
    "\n",
    "w_bcd = np.zeros((d,Niter+1))\n",
    "for k in range(Niter):\n",
    "    for i in range(p):                                # Here we have the parallel workers\n",
    "        i_index = np.arange(i*m,(i+1)*m).astype(int)  # Indexes of block of variables to optimize\n",
    "        \n",
    "        # Complete the code using the subgradient of the SVM to update the weigths \n",
    "        # Keep the weight values for all the iterations\n",
    "        w_bcd[i_index, k+1] = ...\n",
    "\n",
    "f_bcd=f(n,X,y,w_bcd,lamb)"
   ]
  },
  {
   "cell_type": "code",
   "execution_count": 21,
   "id": "69c985c5",
   "metadata": {},
   "outputs": [
    {
     "data": {
      "image/png": "[encoded data removed]",
      "text/plain": [
       "<Figure size 640x480 with 1 Axes>"
      ]
     },
     "metadata": {},
     "output_type": "display_data"
    }
   ],
   "source": [
    "plt.rcParams.update({\n",
    "    \"text.usetex\": True,\n",
    "    \"font.family\": \"Helvetica\"\n",
    "})\n",
    "t = range(Niter+1)\n",
    "plt.plot(t, 10*np.log10((f_bcd-f_cvx)**2+np.finfo(float).eps), color = 'r',label = 'BCD')\n",
    "plt.grid()\n",
    "plt.legend()\n",
    "plt.xlabel('Iteration')\n",
    "plt.ylabel(r'$10\\log(f({\\bf{x}})-f*)^2)$ (MSE)')\n",
    "plt.show()"
   ]
  },
  {
   "cell_type": "code",
   "execution_count": null,
   "id": "4c6af1e6",
   "metadata": {},
   "outputs": [],
   "source": []
  }
 ],
 "metadata": {
  "kernelspec": {
   "display_name": "Python 3 (ipykernel)",
   "language": "python",
   "name": "python3"
  },
  "language_info": {
   "codemirror_mode": {
    "name": "ipython",
    "version": 3
   },
   "file_extension": ".py",
   "mimetype": "text/x-python",
   "name": "python",
   "nbconvert_exporter": "python",
   "pygments_lexer": "ipython3",
   "version": "3.9.13"
  }
 },
 "nbformat": 4,
 "nbformat_minor": 5
}