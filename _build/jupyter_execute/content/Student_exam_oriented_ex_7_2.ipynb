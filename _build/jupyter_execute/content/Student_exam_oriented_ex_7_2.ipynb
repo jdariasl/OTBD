{
 "cells": [
  {
   "cell_type": "markdown",
   "id": "79a193ed",
   "metadata": {},
   "source": [
    "# Student_exam_oriented_ex_7_2"
   ]
  },
  {
   "cell_type": "code",
   "execution_count": 1,
   "id": "360ad3f5",
   "metadata": {},
   "outputs": [],
   "source": [
    "!wget --no-cache -O init.py -q https://raw.githubusercontent.com/jdariasl/OTBD/main/content/init.py\n",
    "import init; init.init(force_download=False)"
   ]
  },
  {
   "cell_type": "code",
   "execution_count": 2,
   "id": "37de4d01",
   "metadata": {},
   "outputs": [],
   "source": [
    "#!sudo apt install cm-super dvipng texlive-latex-extra texlive-latex-recommended"
   ]
  },
  {
   "cell_type": "code",
   "execution_count": 3,
   "id": "b381d4ea",
   "metadata": {},
   "outputs": [],
   "source": [
    "import numpy as np\n",
    "from local.lib.data import load_data\n",
    "import scipy as sc\n",
    "import matplotlib.pyplot as plt"
   ]
  },
  {
   "cell_type": "code",
   "execution_count": 4,
   "id": "cfcef621",
   "metadata": {},
   "outputs": [],
   "source": [
    "#!pip install cvxpy"
   ]
  },
  {
   "cell_type": "code",
   "execution_count": 5,
   "id": "bc6fc4d2",
   "metadata": {},
   "outputs": [],
   "source": [
    "import cvxpy as cp"
   ]
  },
  {
   "cell_type": "markdown",
   "id": "128b42b2",
   "metadata": {},
   "source": [
    "## Exercise\n",
    "\n",
    "\n",
    "- Algorithm: Distributed ADMM\n",
    "- Problem: Binary classification using SVM\n",
    "\n",
    "$$\\underset{{\\bf{w}}}{\\arg\\min}f({\\bf{w}})=\\underset{{\\bf{w}}\\in\\mathbb{R}^{d+1}}{\\textrm{ arg min}}\\left(\\frac{1}{n}\\sum_{i=1}^n\\textrm{max}\\left(1-y_{i}\\left({\\bf{w}}^{T}{\\bf{x}}_{i}\\right),0\\right)+\\frac{\\lambda}{2}\\left\\Vert {\\bf{w}}\\right\\Vert _{2}^{2}\\right)$$\n",
    "\n",
    "- Breast cancer dataset\n",
    "    - 10 features: ID of patient and biological properties of the tumor.\n",
    "        - We use 8 features: $\\bf{X}$ is a $500\\times 8$ matrix containing 500 dataset entries.\n",
    "    - Target: to classify the tumor as malign or benign.\n",
    "        -  Thus, ${\\bf{y}}$ is a $500\\times1$ vector containing the labels\n",
    "        - Note that the medical record is a sensitive information that we do not want to share among nodes; we use distributed ADMM to train the classifier without exchanging the data (privacy preserving).\n",
    "\n",
    "**Some hints**\n",
    "\n",
    "We assume that each $j$-th worker has its own set of data samples, so the function we want to solve is:\n",
    "\n",
    "$$\\underset{\\{{\\bf{w}}_j\\}_{j=1}^{n_b}, {\\bf{z}}}{\\arg\\min}\\left( \\sum_{j=1}^{n_b} \\frac{1}{n}\\sum_{i=1}^m\\textrm{max}\\left(1-y_{j,i}\\left({\\bf{w}}_j^{T}{\\bf{x}}_{j,i}\\right),0\\right)+\\frac{\\lambda}{2}\\left\\Vert {\\bf{z}}\\right\\Vert _{2}^{2}\\right)$$\n",
    "$$\n",
    "\\text{s.t.}\\, {\\bf{w}}_j - {\\bf{z}} = 0\n",
    "$$\n",
    "\n",
    "The augmented Lagrangian is:\n",
    "\n",
    "$$\n",
    "\\begin{array}{c}\n",
    "L_{\\rho}\\left(W,{\\bf{z}},\\beta_{j}\\right)=\\sum_{j=1}^{n_b}\\Big(\\frac{1}{n}\\sum_{i=1}^{m}\\max\\big(1-y_{j,i}{\\bf{w}}_j^T {\\bf{x}}_{j,i},0\\big)\\Big)+\\frac{\\lambda}{2}\\left\\Vert {\\bf{z}} \\right\\Vert _{2}^{2}\\\\\n",
    "\\quad\\quad+\\sum_{j=1}^{n_b} \\beta_{j}^{T}\\left({\\bf{w}}_{j}-{\\bf{z}}\\right)+\\sum_{i=1}^{n_b}\\frac{\\rho}{2}\\left\\Vert {\\bf{w}}_{j}-{\\bf{z}}\\right\\Vert _{2}^{2}\n",
    "\\end{array}\n",
    "$$\n",
    "\n",
    "So, the subgradient of $L_{\\rho}$ with respect to ${\\bf{w}}_j$ is:\n",
    "\n",
    "$$\n",
    "g({\\bf{w}}_j)=\\beta_j + \\rho({\\bf{w}}_j - {\\bf{z}}) + \\frac{1}{n}\\sum_{i=1}^m \\begin{cases}\n",
    "\\begin{array}{c}\n",
    "0\\\\\n",
    "-y_{j,i}{\\bf{x}}_{j,i}\n",
    "\\end{array} & \\begin{array}{c}\n",
    "if\\,\\,y_{j,i}{\\bf{w}}_j^T{\\bf{x}}_{j,i}>1\\\\\n",
    "if\\,\\,y_{j,i}{\\bf{w}}_j^T{\\bf{x}}_{j,i}<1\n",
    "\\end{array}\\end{cases}\\label{eq:subgrad_svm_expression}\n",
    "$$\n",
    "\n",
    "Since in this case is not possible to isolate ${\\bf{w}}_j$ you must use a subgradient update for updating ${\\bf{w}}_j$, and run it for a given number of iterations.\n",
    "\n",
    "**Note** that we are assuming all the workers have access to the same number of samples ($m$)."
   ]
  },
  {
   "cell_type": "code",
   "execution_count": 6,
   "id": "b5b539d5",
   "metadata": {},
   "outputs": [],
   "source": [
    "#load data\n",
    "X,y = load_data(\"classification\", 7)\n",
    "n,d = X.shape"
   ]
  },
  {
   "cell_type": "code",
   "execution_count": 7,
   "id": "7ff96bc5",
   "metadata": {},
   "outputs": [],
   "source": [
    "# Constant parameters\n",
    "lamb = 0.01   # regularisation parameter\n",
    "Niter= 3000   # Number of iterations for each algorithm\n",
    "eta = 0.001   # step size "
   ]
  },
  {
   "cell_type": "code",
   "execution_count": 8,
   "id": "16b15227",
   "metadata": {},
   "outputs": [],
   "source": [
    "#cvx_solver\n",
    "def solver_cvx(n,X,Y,lamb,objective_fn):\n",
    "    n_columns = X.shape[1]\n",
    "    w = cp.Variable(n_columns)\n",
    "    lambd = cp.Parameter(nonneg=True)\n",
    "    lambd.value = lamb\n",
    "    problem = cp.Problem(\n",
    "        cp.Minimize(objective_fn(n, X, Y, w, lambd))\n",
    "    )\n",
    "    problem.solve()\n",
    "    return w.value"
   ]
  },
  {
   "cell_type": "code",
   "execution_count": 9,
   "id": "6fb8598f",
   "metadata": {},
   "outputs": [
    {
     "name": "stdout",
     "output_type": "stream",
     "text": [
      "The loss function f at the optimum takes the value 0.42642274201112185\n"
     ]
    }
   ],
   "source": [
    "# Definition of the problem\n",
    "#===================================\n",
    "loss_fn = lambda n, X, Y, w: (1/n)*cp.sum(cp.pos(1-cp.multiply(Y,X @ w)))\n",
    "reg_L2 = lambda w: cp.pnorm(w, p=2)**2\n",
    "loss_svm_L2 = lambda n, X, Y, w, lambd: loss_fn(n, X, Y, w) + (lambd/2) * reg_L2(w)\n",
    "\n",
    "# Solution of the empirical risk using CVX\n",
    "w_svm_cvx=solver_cvx(n,X,y,lamb,loss_svm_L2)\n",
    "\n",
    "w = cp.Variable(w_svm_cvx.shape[0])\n",
    "w.value = w_svm_cvx\n",
    "f_cvx=loss_svm_L2(n,X,y,w_svm_cvx,lamb).value\n",
    "\n",
    "print(f'The loss function f at the optimum takes the value {f_cvx}')\n",
    "\n",
    "f_cvx = (np.kron(f_cvx,np.ones((1,Niter+1)))).flatten()"
   ]
  },
  {
   "cell_type": "code",
   "execution_count": 10,
   "id": "b976a819",
   "metadata": {},
   "outputs": [],
   "source": [
    "#Function that estimates the loss for several w at once.\n",
    "f = lambda n, X, Y, w, lambd: (1/n)*np.sum(np.maximum(np.zeros((n,w.shape[1])),np.ones((n,w.shape[1]))-np.diag(Y)@(X@w)),axis=0) + (lambd/2)*np.sum(w**2,axis=0)"
   ]
  },
  {
   "cell_type": "code",
   "execution_count": 76,
   "id": "7ed2e6d4",
   "metadata": {},
   "outputs": [],
   "source": [
    "# Distributed ADMM\n",
    "\n",
    "#Constants\n",
    "ro=1               # Quadratic term\n",
    "nb=4               #Number of nodes (to split samples)\n",
    "m = int(n/nb)      #Number of samples per node\n",
    "subgrad_steps = 10 #Number of gradient steps per ADMM update\n",
    "\n",
    "\n",
    "w_admm_d = np.zeros((nb,d,Niter+1))\n",
    "b_admm_d = np.zeros((nb,d,Niter+1))\n",
    "z_admm_d = np.zeros((d,Niter+1))\n",
    "\n",
    "for k in range(Niter):\n",
    "    #Complete the code including the updating formulas for centrilized ADMM. \n",
    "    # Keep the weigths values for all the iterations\n",
    "    \n",
    "    # This loop simulates the processing to execute in every node\n",
    "    for j in range(nb):\n",
    "        Xj = X[j*m:(j+1)*m,:] #Input Samples observed by node j\n",
    "        yj = y[j*m:(j+1)*m]   #Target values of the corresponding samples. \n",
    "        \n",
    "        \n",
    "        #Update w_j,k+1---------------\n",
    "        for _ in range(subgrad_steps):\n",
    "            subgrad = ...\n",
    "    \n",
    "        w_admm_d[j][:,k+1] = ...\n",
    "    \n",
    "    \n",
    "    # Update z_k+1------------------\n",
    "    \n",
    "    z_admm_d[:,k+1] = ....\n",
    "    \n",
    "    # Update beta_k+1\n",
    "    \n",
    "    b_admm_d[:,:,k+1] = ...\n",
    "\n",
    "f_admm_d=f(n,X,y,z_admm_d,lamb)"
   ]
  },
  {
   "cell_type": "code",
   "execution_count": null,
   "id": "d1113d67",
   "metadata": {},
   "outputs": [],
   "source": [
    "plt.rcParams.update({\n",
    "    \"text.usetex\": True,\n",
    "    \"font.family\": \"Helvetica\"\n",
    "})\n",
    "t = range(Niter+1)\n",
    "plt.plot(t, 10*np.log10((f_admm_d-f_cvx)**2+np.finfo(float).eps), color = 'r',label = 'Distributed ADMM')\n",
    "plt.grid()\n",
    "plt.legend()\n",
    "plt.xlabel('Iteration')\n",
    "plt.ylabel(r'$10\\log(f({\\bf{x}})-f*)^2)$ (MSE)')\n",
    "plt.show()"
   ]
  },
  {
   "cell_type": "code",
   "execution_count": 77,
   "id": "5b5bc357",
   "metadata": {},
   "outputs": [
    {
     "data": {
      "image/png": "[encoded data removed]",
      "text/plain": [
       "<Figure size 640x480 with 1 Axes>"
      ]
     },
     "metadata": {},
     "output_type": "display_data"
    }
   ],
   "source": []
  },
  {
   "cell_type": "code",
   "execution_count": null,
   "id": "4c6af1e6",
   "metadata": {},
   "outputs": [],
   "source": []
  }
 ],
 "metadata": {
  "kernelspec": {
   "display_name": "Python 3 (ipykernel)",
   "language": "python",
   "name": "python3"
  },
  "language_info": {
   "codemirror_mode": {
    "name": "ipython",
    "version": 3
   },
   "file_extension": ".py",
   "mimetype": "text/x-python",
   "name": "python",
   "nbconvert_exporter": "python",
   "pygments_lexer": "ipython3",
   "version": "3.9.13"
  }
 },
 "nbformat": 4,
 "nbformat_minor": 5
}